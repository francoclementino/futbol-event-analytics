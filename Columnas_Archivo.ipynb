{
 "cells": [
  {
   "cell_type": "code",
   "execution_count": 1,
   "id": "d0130321",
   "metadata": {},
   "outputs": [
    {
     "name": "stdout",
     "output_type": "stream",
     "text": [
      "=== INFORMACIÓN DEL ARCHIVO ===\n",
      "Filas: 6100\n",
      "Columnas: ['id', 'eventId', 'typeId', 'type', 'outcomeType', 'minute', 'second', 'period', 'x', 'y', 'playerId', 'playerName', 'teamId', 'match_id', 'competition', 'season', 'match_date', 'week', 'match_description', 'teamName', 'h_a', 'opponent', 'result', 'goals_for', 'goals_against', 'final_score', 'qualifier_Involved', 'qualifier_Jersey number', 'qualifier_Resume', 'qualifier_Player position', 'qualifier_Team player formation', 'qualifier_Captain', 'qualifier_Team formation', 'qualifier_Team kit', 'qualifier_Right to Left Left to Right', 'qualifier_Zone', 'qualifier_Length', 'qualifier_Deleted event type', 'end_x', 'qualifier_Angle', 'end_y', 'qualifier_Tap', 'qualifier_Kick Off', 'qualifier_Offensive', 'qualifier_Opposite related event ID', 'qualifier_Defensive', 'qualifier_Out of play', 'qualifier_Next Event - Throw-In', 'qualifier_Long ball', 'qualifier_Throw-in', 'qualifier_Blocked Pass', 'qualifier_Chipped', 'qualifier_Head pass', 'qualifier_Flick-on', 'qualifier_Launch', 'qualifier_Q_399', 'qualifier_Players caught offside', 'qualifier_Cross', 'qualifier_Indirect', 'qualifier_Free kick taken', 'qualifier_Assist', 'qualifier_Through ball', 'qualifier_Intentional assist', 'qualifier_Low right', 'qualifier_Blocked y co-ordinate', 'qualifier_Goal mouth z co-ordinate', 'qualifier_Fast break', 'qualifier_First Touch', 'qualifier_Assisted', 'qualifier_Blocked x co-ordinate', 'qualifier_Box-centre', 'qualifier_Left footed', 'qualifier_Goal mouth y co-ordinate', 'qualifier_Related event ID', 'qualifier_Parried danger', 'qualifier_Hands', 'qualifier_Diving', 'qualifier_GK X Coordinate', 'qualifier_Right footed', 'qualifier_Big Chance', 'qualifier_Q_458', 'qualifier_GK Y Coordinate', 'qualifier_Q_391', 'qualifier_Not past goal line', 'qualifier_Right', 'qualifier_Box-left', 'qualifier_Low centre', 'qualifier_Blocked', 'qualifier_Def block', 'qualifier_Head', 'qualifier_Individual Play', 'qualifier_Regular play', 'qualifier_Out of box-centre', 'qualifier_Collected', 'qualifier_Keeper Throw', 'qualifier_Player not visible', 'qualifier_Left', 'qualifier_Throw-in set piece', 'qualifier_Over-arm', 'qualifier_Q_152', 'qualifier_Foul', 'qualifier_Shove/push', 'qualifier_Leading to goal', 'qualifier_Feet', 'qualifier_High centre', 'qualifier_Q_375', 'qualifier_Q_374', 'qualifier_Deflection', 'qualifier_Q_468', 'qualifier_Attempted Tackle', 'qualifier_Next Event - Goal Kick', 'qualifier_Low', 'qualifier_Goal Kick', 'qualifier_Lay-off', 'qualifier_Q_392', 'qualifier_Yellow Card', 'qualifier_1 on 1', 'qualifier_Small box-left', 'qualifier_Volley', 'qualifier_Parried safe', 'qualifier_Q_389', 'qualifier_Out-swinger', 'qualifier_Corner taken', 'qualifier_Overrun', 'qualifier_Switch of play', 'qualifier_Standing Goalkeeper', 'qualifier_Gk kick from hands', 'qualifier_Review', 'qualifier_High', 'qualifier_Low left', 'qualifier_Free kick', 'qualifier_By Wall', 'qualifier_Fingertip', 'qualifier_Minutes', 'qualifier_Q_397', 'qualifier_Pull Back', 'qualifier_Shirt Pull/Holding', 'qualifier_End type', 'qualifier_Tactical', 'qualifier_Position Side ID', 'qualifier_Formation slot', 'qualifier_Detailed Position ID', 'qualifier_Q_393', 'qualifier_Set piece', 'qualifier_High left', 'qualifier_Hit Bar', 'qualifier_Hit Woodwork', 'qualifier_Injury', 'qualifier_Injured player id', 'qualifier_In-swinger', 'qualifier_From corner', 'qualifier_Unchallenge d', 'qualifier_Six yard blocked', 'qualifier_Saved off line', 'qualifier_Box-right', 'qualifier_Hit Left Post', 'qualifier_Last line', 'qualifier_Blocked cross', 'qualifier_Swerve Right', 'qualifier_High Right', 'qualifier_Out on sideline', 'qualifier_Close left', 'qualifier_Argument', 'qualifier_Q_436', 'qualifier_Penalty', 'qualifier_Awaiting officials decision', 'qualifier_Q_364', 'qualifier_Referee delay', 'qualifier_Q_365', 'qualifier_Referee Decision Cancelled', 'qualifier_VAR - Penalty ', 'qualifier_Second yellow', 'qualifier_Fantasy Assist Team', 'qualifier_Fantasy Assist Type', 'qualifier_Q_472', 'qualifier_Fantasy Assisted', 'qualifier_Game end', 'qualifier_Checks complete', 'source_file', 'qualifier_Q_383', 'qualifier_Straight', 'qualifier_Q_386', 'qualifier_Q_376', 'qualifier_Q_465', 'qualifier_Q_385', 'qualifier_Q_384', 'qualifier_Q_464', 'qualifier_Stooping', 'qualifier_Q_378', 'qualifier_Block by hand', 'qualifier_Penalty taker', 'qualifier_Hand', 'qualifier_Scored', 'qualifier_Q_390', 'qualifier_Q_353', 'qualifier_Q_396', 'qualifier_Q_395', 'qualifier_Reaching', 'qualifier_Out of box-deep right', 'qualifier_Q_377', 'qualifier_Close right and high', 'qualifier_Close high', 'qualifier_Q_467', 'qualifier_High claim', 'qualifier_Other body part', 'qualifier_35+ centre', 'qualifier_Captain change', 'qualifier_Post-match complete', 'qualifier_Caught', 'qualifier_Close right', 'qualifier_Weak', 'qualifier_Leading to attempt', 'qualifier_Saved shot off target', 'qualifier_Q_476', 'qualifier_Other reason', 'qualifier_Temp_Shot On', 'qualifier_Temp_Block ed', 'qualifier_Strong', 'qualifier_Dangerous play', 'qualifier_Q_387', 'qualifier_Goal disallowed', 'qualifier_Swerve Left', 'qualifier_VAR - Penalty not awarded ', 'qualifier_Saved', 'qualifier_Q_380', 'qualifier_VAR - Goal', 'qualifier_GK hoof', 'qualifier_Q_485', 'qualifier_Own Player', 'qualifier_Own shot blocked', 'qualifier_Q_459', 'qualifier_Small box-centre', 'qualifier_Small box-right', 'qualifier_Time wasting', 'qualifier_Video Coverage Lost', 'qualifier_Follows shot rebound', 'qualifier_Dive', 'qualifier_Out of box-right', 'qualifier_Entering field', 'qualifier_Aerial Foul', 'qualifier_Dissent', 'qualifier_Out of box-deep left', 'qualifier_Keeper Touched', 'qualifier_VAR - Goal Not Awarded', 'qualifier_Out of box-left', 'qualifier_Box-deep right', 'cumulative_mins', 'carry_distance', 'carry_duration', 'take_ons_during', 'possession_id', 'possession_team', 'progressive_distance', 'xt_value', 'xt_added', 'zone', 'h_band', 'depth_band', 'packing_zone', 'action_angle']\n",
      "\n",
      "=== PRIMERAS 5 FILAS ===\n",
      "           id  eventId  typeId           type outcomeType  minute  second  \\\n",
      "0  2830262165      2.0      32          Start  Successful       0       0   \n",
      "2  2830267291    478.0      43  Deleted event  Successful       0       0   \n",
      "3  2830267293    479.0      43  Deleted event  Successful       0       0   \n",
      "4  2830267295    480.0      43  Deleted event  Successful       0       0   \n",
      "5  2830267297    481.0      43  Deleted event  Successful       0       0   \n",
      "\n",
      "   period    x    y  ... possession_id         possession_team  \\\n",
      "0       1  0.0  0.0  ...           2.0  CSD Defensa y Justicia   \n",
      "2       1  0.0  0.0  ...           2.0  CSD Defensa y Justicia   \n",
      "3       1  0.0  0.0  ...           2.0  CSD Defensa y Justicia   \n",
      "4       1  0.0  0.0  ...           2.0  CSD Defensa y Justicia   \n",
      "5       1  0.0  0.0  ...           2.0  CSD Defensa y Justicia   \n",
      "\n",
      "  progressive_distance xt_value xt_added zone h_band depth_band  \\\n",
      "0                  NaN      0.0      0.0  NaN   Left    DeepDef   \n",
      "2                  NaN      0.0      0.0  NaN   Left    DeepDef   \n",
      "3                  NaN      0.0      0.0  NaN   Left    DeepDef   \n",
      "4                  NaN      0.0      0.0  NaN   Left    DeepDef   \n",
      "5                  NaN      0.0      0.0  NaN   Left    DeepDef   \n",
      "\n",
      "                            packing_zone action_angle  \n",
      "0  Zona detrás Defensa (Banda Izquierda)          NaN  \n",
      "2  Zona detrás Defensa (Banda Izquierda)          NaN  \n",
      "3  Zona detrás Defensa (Banda Izquierda)          NaN  \n",
      "4  Zona detrás Defensa (Banda Izquierda)          NaN  \n",
      "5  Zona detrás Defensa (Banda Izquierda)          NaN  \n",
      "\n",
      "[5 rows x 260 columns]\n",
      "\n",
      "=== TIPOS DE DATOS ===\n",
      "id                 int64\n",
      "eventId          float64\n",
      "typeId             int64\n",
      "type              object\n",
      "outcomeType       object\n",
      "                  ...   \n",
      "zone            category\n",
      "h_band          category\n",
      "depth_band      category\n",
      "packing_zone    category\n",
      "action_angle     float64\n",
      "Length: 260, dtype: object\n"
     ]
    }
   ],
   "source": [
    "import pandas as pd\n",
    "\n",
    "# Carga uno de tus archivos parquet\n",
    "df = pd.read_parquet(\"C:/Users/frank/ANALISIS DE DATOS/FUTBOL/futbol-event-analytics/data/processed/all_events_20250920_233434.parquet\")\n",
    "\n",
    "print(\"=== INFORMACIÓN DEL ARCHIVO ===\")\n",
    "print(f\"Filas: {len(df)}\")\n",
    "print(f\"Columnas: {list(df.columns)}\")\n",
    "print(\"\\n=== PRIMERAS 5 FILAS ===\")\n",
    "print(df.head())\n",
    "print(\"\\n=== TIPOS DE DATOS ===\")\n",
    "print(df.dtypes)"
   ]
  }
 ],
 "metadata": {
  "kernelspec": {
   "display_name": "Python 3",
   "language": "python",
   "name": "python3"
  },
  "language_info": {
   "codemirror_mode": {
    "name": "ipython",
    "version": 3
   },
   "file_extension": ".py",
   "mimetype": "text/x-python",
   "name": "python",
   "nbconvert_exporter": "python",
   "pygments_lexer": "ipython3",
   "version": "3.11.0"
  }
 },
 "nbformat": 4,
 "nbformat_minor": 5
}
